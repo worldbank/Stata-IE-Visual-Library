{
 "cells": [
  {
   "cell_type": "markdown",
   "metadata": {},
   "source": [
    "### 1. Upload dataset (.dta)"
   ]
  },
  {
   "cell_type": "code",
   "execution_count": 1,
   "metadata": {},
   "outputs": [],
   "source": [
    "use \"https://github.com/worldbank/Stata-IE-Visual-Library/raw/develop/Library/Bar%20plots/Bar%20plot%20of%20multiple%20variables/data.dta\", clear"
   ]
  },
  {
   "cell_type": "markdown",
   "metadata": {},
   "source": [
    "### 2. Separate crop production var into two distinct rounds (i.e. baseline and midline)"
   ]
  },
  {
   "cell_type": "code",
   "execution_count": 2,
   "metadata": {},
   "outputs": [],
   "source": [
    "qui foreach var of varlist \tw_Main_Paddy_Prod w_Wheat_Prod w_Spring_Winter_Potato_Prod w_Summer_Maize_Prod ///\n",
    "                        w_Spring_Winter_Maize_Prod w_Summer_Potato_Prod w_Upland_Paddy_Prod w_Millet_Prod ///\n",
    "                        w_Barley_Prod w_Mustard_Prod w_Beans_Prod w_Soybeans_Prod w_Lentil_Prod ///\n",
    "                        w_Black_Gram_Prod w_Pea_Prod  {\n",
    "                            gen bl_`var' = `var' if round == 1\n",
    "                            gen ml_`var' = `var' if round == 2\n",
    "                        }"
   ]
  },
  {
   "cell_type": "markdown",
   "metadata": {},
   "source": [
    "### 3. Consolidate treatment assignment group from two rounds into one (``tmt-group``)"
   ]
  },
  {
   "cell_type": "code",
   "execution_count": 3,
   "metadata": {},
   "outputs": [],
   "source": [
    "qui gen \ttmt_group = (treatment == 1 | treatment == 2)\n",
    "qui replace tmt_group = 0 if tmt_group == ."
   ]
  },
  {
   "cell_type": "markdown",
   "metadata": {},
   "source": [
    "### 4. Keeping only the mean of the crop production variables of concern, per treatment assignment"
   ]
  },
  {
   "cell_type": "code",
   "execution_count": 4,
   "metadata": {},
   "outputs": [],
   "source": [
    "collapse bl_* ml_*, by(tmt_group)"
   ]
  },
  {
   "cell_type": "markdown",
   "metadata": {},
   "source": [
    "### 5. Reshaping dataset to have crop variables in one column\n",
    "\n",
    "For each value of `tmt_group`, we want to have the average be calculated across observations -- so we `reshape` to a long-format dataset, indexed by the new `crop` variable. This is a string with the name of the crop.\n",
    "\n",
    "(e.g. from ``ml_w_Barley_Prod`` and ``bl_w_Barley_Prod``, ``w_Barley_Prod`` becomes the value of the `crop` variable.) \n",
    "\n",
    "\n",
    "End product: data with columns of \n",
    "\n",
    "    tmt_group\n",
    "    crop\n",
    "    bl_ \n",
    "    ml_"
   ]
  },
  {
   "cell_type": "code",
   "execution_count": 5,
   "metadata": {
    "scrolled": true
   },
   "outputs": [],
   "source": [
    "qui reshape long bl_ ml_, i(tmt_group) j(crop) str"
   ]
  },
  {
   "cell_type": "markdown",
   "metadata": {},
   "source": [
    "### 6. Reshapiing dataset to have treatment group under one column\n",
    "\n",
    "For each value of ``crop``, the code takes variable ``tmt_group`` create a new merged variable with ``bl_`` and ``ml_`` variables.\n",
    "\n",
    "(e.g. Each ``bl_`` variable will now have two types, ``bl_0 `` and ``bl_1``, using values from ``tmt_group`` 1/0. )\n",
    "\n",
    "End product: data with columns of:\n",
    "\n",
    "    crop\n",
    "    bl_0\n",
    "    bl_1\n",
    "    ml_0\n",
    "    ml_1\n"
   ]
  },
  {
   "cell_type": "code",
   "execution_count": 6,
   "metadata": {},
   "outputs": [],
   "source": [
    "qui reshape wide bl_ ml_, i(crop) j(tmt_group)"
   ]
  },
  {
   "cell_type": "markdown",
   "metadata": {},
   "source": [
    "### 7. Sorting the data set in ascending order, by ``ml_`` variable, and keeping only the data with the largest 3 value"
   ]
  },
  {
   "cell_type": "code",
   "execution_count": 7,
   "metadata": {},
   "outputs": [],
   "source": [
    "gsort -ml_1\n",
    "qui keep if _n<4"
   ]
  },
  {
   "cell_type": "markdown",
   "metadata": {},
   "source": [
    "### 8. Creating the variable of the order and var with added constant (this variables are used later for labelling bar plot value (y-axis location), rounding decimals of  ``_ml`` / ``_bl`` variables"
   ]
  },
  {
   "cell_type": "code",
   "execution_count": 8,
   "metadata": {},
   "outputs": [],
   "source": [
    "qui gen xml_1 = _n\n",
    "qui gen xml_0 = xml_1 +.2\n",
    "qui gen xbl_1 = xml_1 +.4\n",
    "qui gen xbl_0 = xml_1 +.6\n",
    "\n",
    "qui foreach var of varlist bl_* ml_* {\n",
    "\treplace `var' = round(`var',.1)\n",
    "\t}"
   ]
  },
  {
   "cell_type": "markdown",
   "metadata": {},
   "source": [
    "### 9. Cleaning the string variable (``crop``) values"
   ]
  },
  {
   "cell_type": "code",
   "execution_count": 9,
   "metadata": {},
   "outputs": [],
   "source": [
    "qui replace crop = subinstr(crop, \"_\", \" \",.) \n",
    "qui replace crop = subinstr(crop, \"w\", \" \",.)"
   ]
  },
  {
   "cell_type": "markdown",
   "metadata": {},
   "source": [
    "### 10. Creating a horizontal bar graph with cleaned data"
   ]
  },
  {
   "cell_type": "code",
   "execution_count": 10,
   "metadata": {},
   "outputs": [
    {
     "name": "stdout",
     "output_type": "stream",
     "text": [
      "\n",
      "\n",
      ". twoway bar bl_0 xbl_0, horizontal bcolor(edkblue) barwidth(.2) ||  bar ml_0 xml_0, horizontal bcolor(eltblue) barwidth(.2) ||  scatter xml_0 ml_0, mlabel(ml_0) mlabcolor(black) msymbol(none) mlabsize(vsmall) ||  scatter xbl_0 bl_0, mlabel(bl_0) mlabcolo\n",
      "\n",
      "> er xbl_1 bl_1, mlabel(bl_1) mlabcolor(black) msymbol(none) mlabsize(vsmall)  xlabel(0 \"0\" 50 \"50\" 100 \"100\" 150 \"150\")  xscale(range(0(20)100))  ylabel(1.3 `crop1' 2.3 `crop2' 3.3 `crop3', angle(0))  graphregion(color(white)) bgcolor(white)  legend(labe\n",
      "> l(1 \"Baseline-Control\") label(2 \"Midline-Control\") label(5 \"Baseline-Treatment\") label(6 \"Midline-Treatment\") order(1 5 2 6))\n",
      "\n",
      ". noi gr export C:/Users/Saori/.stata_kernel_cache/graph${stata_kernel_graph_counter}.png, width(600) replace        \n"
     ]
    },
    {
     "data": {
      "image/png": "[encoded data removed]",
      "text/plain": [
       "This front-end cannot display the desired image type."
      ]
     },
     "metadata": {
      "image/png": {
       "height": 436,
       "width": 600
      }
     },
     "output_type": "display_data"
    },
    {
     "name": "stdout",
     "output_type": "stream",
     "text": [
      "\n",
      "\n",
      ". global stata_kernel_graph_counter = $stata_kernel_graph_counter + 1        \n"
     ]
    }
   ],
   "source": [
    "qui forvalues j = 1/3 {\n",
    "\tlevelsof crop if _n==`j', local(crop`j')\n",
    "\t}\n",
    "\n",
    "twoway bar bl_0 xbl_0, horizontal bcolor(edkblue) barwidth(.2) || ///\n",
    "\tbar ml_0 xml_0, horizontal bcolor(eltblue) barwidth(.2) || ///\n",
    "\tscatter xml_0 ml_0, mlabel(ml_0) mlabcolor(black) msymbol(none) mlabsize(vsmall) || ///\n",
    "\tscatter xbl_0 bl_0, mlabel(bl_0) mlabcolor(black) msymbol(none) mlabsize(vsmall) || ///\n",
    "\tbar bl_1 xbl_1, horizontal bcolor(emidblue) barwidth(.2) || ///\n",
    "\tbar ml_1 xml_1, horizontal bcolor(black) barwidth(.2) || ///\n",
    "\tscatter xml_1 ml_1, mlabel(ml_1) mlabcolor(black) msymbol(none) mlabsize(vsmall) || ///\n",
    "\tscatter xbl_1 bl_1, mlabel(bl_1) mlabcolor(black) msymbol(none) mlabsize(vsmall) ///\n",
    "\txlabel(0 \"0\" 50 \"50\" 100 \"100\" 150 \"150\") ///\n",
    "\txscale(range(0(20)100)) /// \n",
    "\tylabel(1.3 `crop1' 2.3 `crop2' 3.3 `crop3', angle(0)) ///\n",
    "\tgraphregion(color(white)) bgcolor(white) ///\n",
    "\tlegend(label(1 \"Baseline-Control\") label(2 \"Midline-Control\") label(5 \"Baseline-Treatment\") label(6 \"Midline-Treatment\") order(1 5 2 6)) "
   ]
  },
  {
   "cell_type": "markdown",
   "metadata": {},
   "source": [
    "### 11. Exporting the graph"
   ]
  },
  {
   "cell_type": "code",
   "execution_count": 11,
   "metadata": {
    "scrolled": true
   },
   "outputs": [
    {
     "name": "stdout",
     "output_type": "stream",
     "text": [
      "(file figure.png written in PNG format)\n"
     ]
    }
   ],
   "source": [
    "graph export \"figure.png\", replace"
   ]
  }
 ],
 "metadata": {
  "kernelspec": {
   "display_name": "Stata",
   "language": "stata",
   "name": "stata"
  },
  "language_info": {
   "file_extension": ".do",
   "mimetype": "text/x-stata",
   "name": "stata"
  }
 },
 "nbformat": 4,
 "nbformat_minor": 2
}

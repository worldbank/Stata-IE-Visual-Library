{
 "cells": [
  {
   "cell_type": "markdown",
   "metadata": {},
   "source": [
    "### 1. Upload dataset (.dta)"
   ]
  },
  {
   "cell_type": "code",
   "execution_count": 12,
   "metadata": {},
   "outputs": [
    {
     "name": "stdout",
     "output_type": "stream",
     "text": [
      "(W4,S17B:FoodConsump version1.0)\n"
     ]
    }
   ],
   "source": [
    "use \"https://github.com/SaoriIwa/Stata-IE-Visual-Library/raw/develop/Library/Bar%20plots/Combined%20bar%20plots%20with%20two%20axes/data.dta\", clear"
   ]
  },
  {
   "cell_type": "markdown",
   "metadata": {},
   "source": [
    "### 2. Adjust variable for bar position"
   ]
  },
  {
   "cell_type": "code",
   "execution_count": 13,
   "metadata": {},
   "outputs": [],
   "source": [
    "gen x = int1mo+.5"
   ]
  },
  {
   "cell_type": "markdown",
   "metadata": {},
   "source": [
    "### 3. Create individual graphs"
   ]
  },
  {
   "cell_type": "code",
   "execution_count": 14,
   "metadata": {},
   "outputs": [
    {
     "name": "stdout",
     "output_type": "stream",
     "text": [
      "\n",
      "graph animal already exists\n"
     ]
    },
    {
     "name": "stderr",
     "output_type": "stream",
     "text": [
      "r(110);\n",
      "r(110);\n"
     ]
    },
    {
     "name": "stdout",
     "output_type": "stream",
     "text": [
      "\n",
      "\n"
     ]
    }
   ],
   "source": [
    "\tforeach foodGroup in animal fruit grain fats veg starch beverages  processed_sugar nut_pulse_seed spices other {\n",
    "\t\t\n",
    "\t\tif \"`foodGroup'\" == \"animal\"\t\t\tlocal graphTitle Animal Sourced\n",
    "\t\tif \"`foodGroup'\" == \"fruit\"\t\t\t\tlocal graphTitle Fruit\n",
    "\t\tif \"`foodGroup'\" == \"grain\"\t\t\t\tlocal graphTitle Grain\n",
    "\t\tif \"`foodGroup'\" == \"veg\"\t\t\t\tlocal graphTitle Vegetables\n",
    "\t\tif \"`foodGroup'\" == \"starch\"\t\t\tlocal graphTitle Starchy Foods\n",
    "\t\tif \"`foodGroup'\" == \"processed_sugar\"\tlocal graphTitle Processed/Sugar\n",
    "\n",
    "\t\ttwoway \tbar number_group x if food_group==\"`foodGroup'\", ///\n",
    "\t\t\t\tyaxis(1) ytitle(\"Avg. Number of Foods from\" \"Group Consumed Last Month\", axis(1)) ///\n",
    "\t\t\t\tbarwidth(.9) fintensity(inten0) lcolor(black) /// \n",
    "\t\t\t\txlabel(0 \"0\" 3 \"3\" 6 \"6\" 9 \"9\" 12 \"12\") ///\n",
    "\t\t\t\tylabel(0 \"0\" 1 \"1\" 2 \"2\" 3 \"3\", axis(1)) || ///\n",
    "\t\t\t\tline total_exp int1mo if food_group==\"`foodGroup'\", ///\n",
    "\t\t\t\tyaxis(2) ytitle(\"Total Value of Exp.\" \"1000 Real Tz Sh.\", axis(2)) ///\n",
    "\t\t\t\tylabel(0 \"0\" 500 \"500\" 1000 \"1000\" 1500 \"1500\" 2000 \"2000\" 2500 \"2500\", axis(2)) ///\n",
    "\t\t\t\txlabel(3 \"3\" 6 \"6\" 9 \"9\" 12 \"12\") lwidth(1.2) ///\n",
    "\t\t\t\ttitle(\"`graphTitle'\") xtitle(\"Month of Interview\") ///\n",
    "\t\t\t\tgraphregion(color(white)) bgcolor(white) ///\n",
    "\t\t\t\tlegend(off) ///\n",
    "\t\t\t\tname(\"`foodGroup'\") ///\n",
    "\t\t\t\t\n",
    "\t}"
   ]
  },
  {
   "cell_type": "code",
   "execution_count": null,
   "metadata": {},
   "outputs": [],
   "source": []
  },
  {
   "cell_type": "code",
   "execution_count": null,
   "metadata": {},
   "outputs": [],
   "source": []
  },
  {
   "cell_type": "code",
   "execution_count": null,
   "metadata": {},
   "outputs": [],
   "source": []
  },
  {
   "cell_type": "code",
   "execution_count": null,
   "metadata": {},
   "outputs": [],
   "source": []
  },
  {
   "cell_type": "code",
   "execution_count": null,
   "metadata": {},
   "outputs": [],
   "source": []
  },
  {
   "cell_type": "code",
   "execution_count": null,
   "metadata": {},
   "outputs": [],
   "source": []
  },
  {
   "cell_type": "code",
   "execution_count": null,
   "metadata": {},
   "outputs": [],
   "source": []
  },
  {
   "cell_type": "code",
   "execution_count": null,
   "metadata": {},
   "outputs": [],
   "source": []
  },
  {
   "cell_type": "code",
   "execution_count": null,
   "metadata": {},
   "outputs": [],
   "source": []
  },
  {
   "cell_type": "code",
   "execution_count": null,
   "metadata": {},
   "outputs": [],
   "source": []
  },
  {
   "cell_type": "code",
   "execution_count": null,
   "metadata": {},
   "outputs": [],
   "source": []
  },
  {
   "cell_type": "code",
   "execution_count": null,
   "metadata": {},
   "outputs": [],
   "source": []
  },
  {
   "cell_type": "code",
   "execution_count": null,
   "metadata": {},
   "outputs": [],
   "source": []
  },
  {
   "cell_type": "code",
   "execution_count": null,
   "metadata": {},
   "outputs": [],
   "source": []
  }
 ],
 "metadata": {
  "kernelspec": {
   "display_name": "Stata",
   "language": "stata",
   "name": "stata"
  },
  "language_info": {
   "file_extension": ".do",
   "mimetype": "text/x-stata",
   "name": "stata"
  }
 },
 "nbformat": 4,
 "nbformat_minor": 2
}
